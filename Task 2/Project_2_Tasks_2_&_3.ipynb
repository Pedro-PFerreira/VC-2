{
  "nbformat": 4,
  "nbformat_minor": 0,
  "metadata": {
    "colab": {
      "provenance": []
    },
    "kernelspec": {
      "name": "python3",
      "display_name": "Python 3"
    },
    "language_info": {
      "name": "python"
    }
  },
  "cells": [
    {
      "cell_type": "markdown",
      "source": [
        "# VC Project 2: Tasks 2 & 3\n",
        "\n",
        "By:\n",
        "\n",
        "- Lourenço Alexandre Correia Gonçalves (up202004816@edu.fe.up.pt)\n",
        "- Pedro Pereira Ferreira (up202004986@edu.fe.up.pt)\n",
        "- Ricardo Cerqueira Inácio (up202302742@edu.fe.up.pt)\n",
        "\n",
        "\n",
        "## Introduction\n",
        "\n",
        "This project consists of the exploration of the Deep Learning in the Computer Vision Context. We will investigate about the convolutional neural networks (CNN) and their variants in order to count and detect LEGO bricks in images.\n",
        "\n",
        "\n",
        "Note: This images were provided by: Zawora, K., Zaraziński, S., Śledź, B., Łobacz, B., & Boiński, T. M. (2021). Tagged images with LEGO bricks (Versions 1.1, 1–) [dataset]. Gdańsk University of Technology. https://doi.org/10.34808/anq4-rn44\n",
        "\n",
        "## Task 2\n",
        "\n",
        "The aim of this task is to build and use a CNN in order to count the number of LEGO bricks in an image. Then, we will compare the results obtained with other approaches."
      ],
      "metadata": {
        "id": "Px1pDovEGCXv"
      }
    },
    {
      "cell_type": "markdown",
      "source": [
        "### Import dependencies"
      ],
      "metadata": {
        "id": "PgZmkoo5IAwH"
      }
    },
    {
      "cell_type": "markdown",
      "source": [
        "Firstly, we need to install the necessary libraries."
      ],
      "metadata": {
        "id": "mYY30pdFHkbw"
      }
    },
    {
      "cell_type": "code",
      "source": [
        "import matplotlib.pyplot as plt\n",
        "import numpy as np\n",
        "\n",
        "import torch\n",
        "from torch import nn\n",
        "from torch.utils.data import DataLoader\n",
        "from torch.utils.data.sampler import SubsetRandomSampler\n",
        "import torch.nn.functional as F\n",
        "from torchvision import datasets\n",
        "import torchvision.transforms as transforms\n",
        "from sklearn.metrics import accuracy_score\n",
        "from tqdm import tqdm\n",
        "\n",
        "from google.colab import drive\n",
        "import zipfile\n",
        "import os"
      ],
      "metadata": {
        "id": "EVfTYkFdIMQ_"
      },
      "execution_count": 1,
      "outputs": []
    },
    {
      "cell_type": "markdown",
      "source": [
        "### Load dataset"
      ],
      "metadata": {
        "id": "lUYvcAAhIFJv"
      }
    },
    {
      "cell_type": "markdown",
      "source": [
        "Then, we need to load the images from the dataset provided for the task, located in the shared Google Drive."
      ],
      "metadata": {
        "id": "TxxAdOVcH1mQ"
      }
    },
    {
      "cell_type": "code",
      "source": [
        "drive.mount('/content/drive')\n",
        "\n",
        "zip_file_path = '/content/drive/My Drive/VC- Projeto 2/02 - tagged1.zip'\n",
        "\n",
        "extracted_folder_path = '/content/dataset'\n",
        "\n",
        "with zipfile.ZipFile(zip_file_path, 'r') as zip_ref:\n",
        "    zip_ref.extractall(extracted_folder_path)\n",
        "\n",
        "files_in_extracted_folder = os.listdir(extracted_folder_path)\n",
        "print(\"Files in extracted folder:\", files_in_extracted_folder)\n"
      ],
      "metadata": {
        "colab": {
          "base_uri": "https://localhost:8080/"
        },
        "id": "b8uwP8UZITCu",
        "outputId": "2feb414f-5e51-48b7-f23b-937d9c9ae2b0"
      },
      "execution_count": 2,
      "outputs": [
        {
          "output_type": "stream",
          "name": "stdout",
          "text": [
            "Drive already mounted at /content/drive; to attempt to forcibly remount, call drive.mount(\"/content/drive\", force_remount=True).\n",
            "Files in extracted folder: ['photos', 'renders']\n"
          ]
        }
      ]
    }
  ]
}